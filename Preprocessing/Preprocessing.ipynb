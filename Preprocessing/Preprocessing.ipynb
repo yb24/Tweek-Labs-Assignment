{
 "cells": [
  {
   "cell_type": "markdown",
   "id": "74a6326a",
   "metadata": {},
   "source": [
    "# Import Statements"
   ]
  },
  {
   "cell_type": "code",
   "execution_count": 1,
   "id": "f350ec10",
   "metadata": {},
   "outputs": [],
   "source": [
    "import pandas as pd\n",
    "import numpy as np\n",
    "from tqdm import tqdm\n",
    "import matplotlib.pyplot as plt\n",
    "from sklearn.model_selection import train_test_split\n",
    "from sklearn.preprocessing import StandardScaler\n",
    "import pickle"
   ]
  },
  {
   "cell_type": "markdown",
   "id": "6afe5a9f",
   "metadata": {},
   "source": [
    "# Read Files"
   ]
  },
  {
   "cell_type": "code",
   "execution_count": 2,
   "id": "65be8675",
   "metadata": {},
   "outputs": [],
   "source": [
    "front_foot_df = pd.read_csv('../Dataset/front foot data set - front_foot_contact.csv')"
   ]
  },
  {
   "cell_type": "markdown",
   "id": "5afaf464",
   "metadata": {},
   "source": [
    "# Preprocessing"
   ]
  },
  {
   "cell_type": "code",
   "execution_count": 3,
   "id": "e8b163a2",
   "metadata": {},
   "outputs": [],
   "source": [
    "# Drop timestamp column\n",
    "\n",
    "front_foot_df = front_foot_df.drop(columns=['timestamp'])"
   ]
  },
  {
   "cell_type": "code",
   "execution_count": 4,
   "id": "35d00e9e",
   "metadata": {},
   "outputs": [],
   "source": [
    "# Drop null\n",
    "\n",
    "front_foot_df = front_foot_df.dropna()"
   ]
  },
  {
   "cell_type": "code",
   "execution_count": 5,
   "id": "85a01c96",
   "metadata": {},
   "outputs": [
    {
     "name": "stdout",
     "output_type": "stream",
     "text": [
      "<class 'pandas.core.frame.DataFrame'>\n",
      "Int64Index: 16099 entries, 0 to 16098\n",
      "Data columns (total 12 columns):\n",
      " #   Column               Non-Null Count  Dtype  \n",
      "---  ------               --------------  -----  \n",
      " 0   strideAngles         16099 non-null  float64\n",
      " 1   frontLegFlexAngle    16099 non-null  float64\n",
      " 2   frontFootRotation    16099 non-null  float64\n",
      " 3   frontAnkleRotationX  16099 non-null  float64\n",
      " 4   backAnkleRotationX   16099 non-null  float64\n",
      " 5   frontShinFootAngle   16099 non-null  float64\n",
      " 6   frontFootY           16099 non-null  float64\n",
      " 7   backFootY            16099 non-null  float64\n",
      " 8   frontFootZ           16099 non-null  float64\n",
      " 9   backFootZ            16099 non-null  float64\n",
      " 10  feetDistZ            16099 non-null  float64\n",
      " 11  landing_detected     16099 non-null  float64\n",
      "dtypes: float64(12)\n",
      "memory usage: 1.6 MB\n"
     ]
    }
   ],
   "source": [
    "front_foot_df.info()"
   ]
  },
  {
   "cell_type": "markdown",
   "id": "f86bb8aa",
   "metadata": {},
   "source": [
    "# Train-Test Split"
   ]
  },
  {
   "cell_type": "code",
   "execution_count": 6,
   "id": "81a7abe3",
   "metadata": {},
   "outputs": [],
   "source": [
    "# Train-Test split 80:20 ratio\n",
    "\n",
    "train_df, test_df = train_test_split(front_foot_df, test_size=0.2, random_state=0)"
   ]
  },
  {
   "cell_type": "code",
   "execution_count": 7,
   "id": "f2c5f256",
   "metadata": {},
   "outputs": [],
   "source": [
    "# Split Train and Test dataframes into x and y\n",
    "\n",
    "train_x = train_df.iloc[:,0:11]\n",
    "train_y = train_df.iloc[:,-1]\n",
    "\n",
    "test_x = test_df.iloc[:,0:11]\n",
    "test_y = test_df.iloc[:,-1]"
   ]
  },
  {
   "cell_type": "markdown",
   "id": "ddbdbf65",
   "metadata": {},
   "source": [
    "# Feature Engineering"
   ]
  },
  {
   "cell_type": "code",
   "execution_count": 8,
   "id": "c1ddc939",
   "metadata": {},
   "outputs": [],
   "source": [
    "scaler = StandardScaler()\n",
    "train_x = scaler.fit_transform(train_x)\n",
    "test_x = scaler.transform(test_x)"
   ]
  },
  {
   "cell_type": "code",
   "execution_count": 9,
   "id": "3e59a393",
   "metadata": {},
   "outputs": [],
   "source": [
    "train_y = train_y.astype('int64')\n",
    "test_y = test_y.astype('int64')"
   ]
  },
  {
   "cell_type": "markdown",
   "id": "8e4536bd",
   "metadata": {},
   "source": [
    "# Saving Train Test Values"
   ]
  },
  {
   "cell_type": "code",
   "execution_count": 10,
   "id": "13b6ab79",
   "metadata": {},
   "outputs": [],
   "source": [
    "# dictionary of data to save\n",
    "\n",
    "data = {}\n",
    "data['train_x'] = train_x\n",
    "data['train_y'] = train_y\n",
    "data['test_x'] = test_x\n",
    "data['test_y'] = test_y"
   ]
  },
  {
   "cell_type": "code",
   "execution_count": 11,
   "id": "920101dd",
   "metadata": {},
   "outputs": [],
   "source": [
    "# Dump processed data for training models later\n",
    "\n",
    "file = open('../processed_data.pkl', 'wb')\n",
    "pickle.dump(data, file)\n",
    "file.close()"
   ]
  }
 ],
 "metadata": {
  "kernelspec": {
   "display_name": "Python 3 (ipykernel)",
   "language": "python",
   "name": "python3"
  },
  "language_info": {
   "codemirror_mode": {
    "name": "ipython",
    "version": 3
   },
   "file_extension": ".py",
   "mimetype": "text/x-python",
   "name": "python",
   "nbconvert_exporter": "python",
   "pygments_lexer": "ipython3",
   "version": "3.7.4"
  }
 },
 "nbformat": 4,
 "nbformat_minor": 5
}
