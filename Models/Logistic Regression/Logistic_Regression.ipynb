{
 "cells": [
  {
   "cell_type": "markdown",
   "id": "159ffd30",
   "metadata": {},
   "source": [
    "# Import Statements"
   ]
  },
  {
   "cell_type": "code",
   "execution_count": 1,
   "id": "295a67e8",
   "metadata": {},
   "outputs": [],
   "source": [
    "import pandas as pd\n",
    "import numpy as np\n",
    "from tqdm import tqdm\n",
    "import pickle\n",
    "from sklearn.metrics import f1_score, precision_score, recall_score, accuracy_score"
   ]
  },
  {
   "cell_type": "markdown",
   "id": "8bbd5453",
   "metadata": {},
   "source": [
    "# Load Data"
   ]
  },
  {
   "cell_type": "code",
   "execution_count": 2,
   "id": "f36cdc26",
   "metadata": {},
   "outputs": [],
   "source": [
    "file = open('../../processed_data.pkl', 'rb')\n",
    "data = pickle.load(file)\n",
    "file.close()"
   ]
  },
  {
   "cell_type": "code",
   "execution_count": 3,
   "id": "2672fbd7",
   "metadata": {},
   "outputs": [],
   "source": [
    "train_x, train_y, test_x, test_y = data['train_x'], data['train_y'], data['test_x'], data['test_y']"
   ]
  },
  {
   "cell_type": "markdown",
   "id": "a91e6ca6",
   "metadata": {},
   "source": [
    "# Logistic Regression"
   ]
  },
  {
   "cell_type": "code",
   "execution_count": 4,
   "id": "d4667806",
   "metadata": {},
   "outputs": [],
   "source": [
    "from sklearn.linear_model import LogisticRegression"
   ]
  },
  {
   "cell_type": "markdown",
   "id": "0f95f6c0",
   "metadata": {},
   "source": [
    "## Logistic Regression with no regularization"
   ]
  },
  {
   "cell_type": "code",
   "execution_count": 5,
   "id": "ff50fdd4",
   "metadata": {},
   "outputs": [],
   "source": [
    "logistic_regression_model = LogisticRegression(penalty='none', fit_intercept=True, random_state=0)"
   ]
  },
  {
   "cell_type": "code",
   "execution_count": 6,
   "id": "ebfe9898",
   "metadata": {},
   "outputs": [],
   "source": [
    "logistic_regression_model.fit(train_x, train_y)\n",
    "logistic_regression_model_predictions = logistic_regression_model.predict(test_x)"
   ]
  },
  {
   "cell_type": "code",
   "execution_count": 7,
   "id": "302bd212",
   "metadata": {},
   "outputs": [
    {
     "name": "stdout",
     "output_type": "stream",
     "text": [
      "Train Accuracy: 88.54724745710071 %\n",
      "Test Accuracy: 88.1055900621118 %\n"
     ]
    }
   ],
   "source": [
    "print('Train Accuracy: {} %'.format(100*logistic_regression_model.score(train_x, train_y)))\n",
    "print('Test Accuracy: {} %'.format(100*logistic_regression_model.score(test_x, test_y)))"
   ]
  },
  {
   "cell_type": "markdown",
   "id": "ae2b3ff8",
   "metadata": {},
   "source": [
    "## Logistic Regression with L1 Regularization"
   ]
  },
  {
   "cell_type": "code",
   "execution_count": 8,
   "id": "634a5333",
   "metadata": {},
   "outputs": [],
   "source": [
    "logistic_regression_l1_model = LogisticRegression(penalty='l1', solver='liblinear', fit_intercept=True, random_state=0)"
   ]
  },
  {
   "cell_type": "code",
   "execution_count": 9,
   "id": "e05d05df",
   "metadata": {},
   "outputs": [],
   "source": [
    "logistic_regression_l1_model.fit(train_x, train_y)\n",
    "logistic_regression_l1_model_predictions = logistic_regression_l1_model.predict(test_x)"
   ]
  },
  {
   "cell_type": "code",
   "execution_count": 10,
   "id": "c10cc5df",
   "metadata": {},
   "outputs": [
    {
     "name": "stdout",
     "output_type": "stream",
     "text": [
      "Train Accuracy: 88.56277661309107 %\n",
      "Test Accuracy: 88.1055900621118 %\n"
     ]
    }
   ],
   "source": [
    "print('Train Accuracy: {} %'.format(100*logistic_regression_l1_model.score(train_x, train_y)))\n",
    "print('Test Accuracy: {} %'.format(100*logistic_regression_l1_model.score(test_x, test_y)))"
   ]
  },
  {
   "cell_type": "markdown",
   "id": "dc62946a",
   "metadata": {},
   "source": [
    "# Logistic Regression with L2 Regularization"
   ]
  },
  {
   "cell_type": "code",
   "execution_count": 11,
   "id": "167b359a",
   "metadata": {},
   "outputs": [],
   "source": [
    "logistic_regression_l2_model = LogisticRegression(penalty='l2', fit_intercept=True, random_state=0)"
   ]
  },
  {
   "cell_type": "code",
   "execution_count": 12,
   "id": "f1893810",
   "metadata": {},
   "outputs": [],
   "source": [
    "logistic_regression_l2_model.fit(train_x, train_y)\n",
    "logistic_regression_l2_model_predictions = logistic_regression_l2_model.predict(test_x)"
   ]
  },
  {
   "cell_type": "code",
   "execution_count": 13,
   "id": "ed833d5f",
   "metadata": {},
   "outputs": [
    {
     "name": "stdout",
     "output_type": "stream",
     "text": [
      "Train Accuracy: 88.56277661309107 %\n",
      "Test Accuracy: 88.1055900621118 %\n"
     ]
    }
   ],
   "source": [
    "print('Train Accuracy: {} %'.format(100*logistic_regression_l2_model.score(train_x, train_y)))\n",
    "print('Test Accuracy: {} %'.format(100*logistic_regression_l2_model.score(test_x, test_y)))"
   ]
  },
  {
   "cell_type": "markdown",
   "id": "21ed4814",
   "metadata": {},
   "source": [
    "# Logistic Regression with Both L1 and L2 Regularization"
   ]
  },
  {
   "cell_type": "code",
   "execution_count": 14,
   "id": "d5d328ae",
   "metadata": {},
   "outputs": [],
   "source": [
    "l1_ratio_list = [0.1, 0.25, 0.5, 0.75, 0.9]"
   ]
  },
  {
   "cell_type": "code",
   "execution_count": 15,
   "id": "d46f8a37",
   "metadata": {},
   "outputs": [
    {
     "name": "stdout",
     "output_type": "stream",
     "text": [
      "Train Accuracy: 88.56277661309107 %\n",
      "Test Accuracy: 88.1055900621118 %\n",
      "\n",
      "\n",
      "Train Accuracy: 88.57054119108626 %\n",
      "Test Accuracy: 88.1055900621118 %\n",
      "\n",
      "\n",
      "Train Accuracy: 88.58607034707664 %\n",
      "Test Accuracy: 88.1055900621118 %\n",
      "\n",
      "\n",
      "Train Accuracy: 88.58607034707664 %\n",
      "Test Accuracy: 88.1055900621118 %\n",
      "\n",
      "\n",
      "Train Accuracy: 88.58607034707664 %\n",
      "Test Accuracy: 88.1055900621118 %\n",
      "\n",
      "\n"
     ]
    }
   ],
   "source": [
    "for l1_ratio in l1_ratio_list:\n",
    "    logistic_regression_elasticnet_model = LogisticRegression(penalty='elasticnet', solver='saga', l1_ratio=l1_ratio, fit_intercept=True, random_state=0)\n",
    "    \n",
    "    logistic_regression_elasticnet_model.fit(train_x, train_y)\n",
    "    logistic_regression_elasticnet_model_predictions = logistic_regression_elasticnet_model.predict(test_x)\n",
    "    \n",
    "    print('Train Accuracy: {} %'.format(100*logistic_regression_elasticnet_model.score(train_x, train_y)))\n",
    "    print('Test Accuracy: {} %'.format(100*logistic_regression_elasticnet_model.score(test_x, test_y)))\n",
    "    print('\\n')"
   ]
  }
 ],
 "metadata": {
  "kernelspec": {
   "display_name": "Python 3 (ipykernel)",
   "language": "python",
   "name": "python3"
  },
  "language_info": {
   "codemirror_mode": {
    "name": "ipython",
    "version": 3
   },
   "file_extension": ".py",
   "mimetype": "text/x-python",
   "name": "python",
   "nbconvert_exporter": "python",
   "pygments_lexer": "ipython3",
   "version": "3.7.4"
  }
 },
 "nbformat": 4,
 "nbformat_minor": 5
}
