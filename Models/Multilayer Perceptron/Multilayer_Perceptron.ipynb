{
 "cells": [
  {
   "cell_type": "markdown",
   "id": "550684e0",
   "metadata": {},
   "source": [
    "# Import Statements"
   ]
  },
  {
   "cell_type": "code",
   "execution_count": 1,
   "id": "622083d5",
   "metadata": {},
   "outputs": [],
   "source": [
    "import pandas as pd\n",
    "import numpy as np\n",
    "from tqdm import tqdm\n",
    "import pickle\n",
    "from sklearn.metrics import f1_score, precision_score, recall_score, accuracy_score"
   ]
  },
  {
   "cell_type": "markdown",
   "id": "d0a5d22f",
   "metadata": {},
   "source": [
    "# Load Data"
   ]
  },
  {
   "cell_type": "code",
   "execution_count": 2,
   "id": "54016684",
   "metadata": {},
   "outputs": [],
   "source": [
    "file = open('../../processed_data.pkl', 'rb')\n",
    "data = pickle.load(file)\n",
    "file.close()"
   ]
  },
  {
   "cell_type": "code",
   "execution_count": 3,
   "id": "8a5ee431",
   "metadata": {},
   "outputs": [],
   "source": [
    "train_x, train_y, test_x, test_y = data['train_x'], data['train_y'], data['test_x'], data['test_y']"
   ]
  },
  {
   "cell_type": "markdown",
   "id": "f2f47b28",
   "metadata": {},
   "source": [
    "# Multilayer Perceptron"
   ]
  },
  {
   "cell_type": "markdown",
   "id": "ea8ac331",
   "metadata": {},
   "source": [
    "## Multilayer Perceptron (1 hidden layer)"
   ]
  },
  {
   "cell_type": "code",
   "execution_count": 4,
   "id": "2e8e25d4",
   "metadata": {},
   "outputs": [],
   "source": [
    "from sklearn.neural_network import MLPClassifier"
   ]
  },
  {
   "cell_type": "code",
   "execution_count": 8,
   "id": "2ca797c0",
   "metadata": {},
   "outputs": [],
   "source": [
    "multilayer_perceptron_model_1 = MLPClassifier(hidden_layer_sizes=(1024,), activation='relu', max_iter=1000, random_state=0)"
   ]
  },
  {
   "cell_type": "code",
   "execution_count": 9,
   "id": "f68e4bbb",
   "metadata": {},
   "outputs": [],
   "source": [
    "multilayer_perceptron_model_1.fit(train_x, train_y)\n",
    "multilayer_perceptron_model_1_predictions = multilayer_perceptron_model_1.predict(test_x)"
   ]
  },
  {
   "cell_type": "code",
   "execution_count": 10,
   "id": "8aeea58d",
   "metadata": {},
   "outputs": [
    {
     "name": "stdout",
     "output_type": "stream",
     "text": [
      "Train Accuracy: 98.92848823666434 %\n",
      "Test Accuracy: 97.11180124223603 %\n"
     ]
    }
   ],
   "source": [
    "print('Train Accuracy: {} %'.format(100*multilayer_perceptron_model_1.score(train_x, train_y)))\n",
    "print('Test Accuracy: {} %'.format(100*multilayer_perceptron_model_1.score(test_x, test_y)))"
   ]
  },
  {
   "cell_type": "code",
   "execution_count": 14,
   "id": "fa94a4ad",
   "metadata": {},
   "outputs": [],
   "source": [
    "# On testing with different number of nodes in hidden layer 1, the best results were obtained at (1024,)"
   ]
  },
  {
   "cell_type": "markdown",
   "id": "2b9c16a7",
   "metadata": {},
   "source": [
    "## Multilayer Perceptron (2 hidden layers)"
   ]
  },
  {
   "cell_type": "code",
   "execution_count": 11,
   "id": "b1a77aaf",
   "metadata": {},
   "outputs": [],
   "source": [
    "multilayer_perceptron_model_2 = MLPClassifier(hidden_layer_sizes=(1024,512), activation='relu', max_iter=1000, random_state=0)"
   ]
  },
  {
   "cell_type": "code",
   "execution_count": 12,
   "id": "74d2c059",
   "metadata": {},
   "outputs": [],
   "source": [
    "multilayer_perceptron_model_2.fit(train_x, train_y)\n",
    "multilayer_perceptron_model_2_predictions = multilayer_perceptron_model_2.predict(test_x)"
   ]
  },
  {
   "cell_type": "code",
   "execution_count": 13,
   "id": "301bad1a",
   "metadata": {},
   "outputs": [
    {
     "name": "stdout",
     "output_type": "stream",
     "text": [
      "Train Accuracy: 99.44095038434662 %\n",
      "Test Accuracy: 96.95652173913044 %\n"
     ]
    }
   ],
   "source": [
    "print('Train Accuracy: {} %'.format(100*multilayer_perceptron_model_2.score(train_x, train_y)))\n",
    "print('Test Accuracy: {} %'.format(100*multilayer_perceptron_model_2.score(test_x, test_y)))"
   ]
  },
  {
   "cell_type": "code",
   "execution_count": 15,
   "id": "7809c951",
   "metadata": {},
   "outputs": [],
   "source": [
    "multilayer_perceptron_model_3 = MLPClassifier(hidden_layer_sizes=(1024,64), activation='relu', max_iter=1000, random_state=0)"
   ]
  },
  {
   "cell_type": "code",
   "execution_count": 16,
   "id": "8437519c",
   "metadata": {},
   "outputs": [],
   "source": [
    "multilayer_perceptron_model_3.fit(train_x, train_y)\n",
    "multilayer_perceptron_model_3_predictions = multilayer_perceptron_model_3.predict(test_x)"
   ]
  },
  {
   "cell_type": "code",
   "execution_count": 17,
   "id": "4aa1ab1f",
   "metadata": {},
   "outputs": [
    {
     "name": "stdout",
     "output_type": "stream",
     "text": [
      "Train Accuracy: 98.96731112664027 %\n",
      "Test Accuracy: 96.55279503105591 %\n"
     ]
    }
   ],
   "source": [
    "print('Train Accuracy: {} %'.format(100*multilayer_perceptron_model_3.score(train_x, train_y)))\n",
    "print('Test Accuracy: {} %'.format(100*multilayer_perceptron_model_3.score(test_x, test_y)))"
   ]
  },
  {
   "cell_type": "code",
   "execution_count": 19,
   "id": "f0abd0fc",
   "metadata": {},
   "outputs": [],
   "source": [
    "# Increasing the number of hidden layers isn't increasing the accuracy any further"
   ]
  }
 ],
 "metadata": {
  "kernelspec": {
   "display_name": "Python 3 (ipykernel)",
   "language": "python",
   "name": "python3"
  },
  "language_info": {
   "codemirror_mode": {
    "name": "ipython",
    "version": 3
   },
   "file_extension": ".py",
   "mimetype": "text/x-python",
   "name": "python",
   "nbconvert_exporter": "python",
   "pygments_lexer": "ipython3",
   "version": "3.7.4"
  }
 },
 "nbformat": 4,
 "nbformat_minor": 5
}
