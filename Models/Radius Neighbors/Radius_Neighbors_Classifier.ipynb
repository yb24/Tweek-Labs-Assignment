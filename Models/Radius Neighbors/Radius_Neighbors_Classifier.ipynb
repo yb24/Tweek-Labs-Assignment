{
 "cells": [
  {
   "cell_type": "markdown",
   "id": "3eb28de9",
   "metadata": {},
   "source": [
    "# Import Statements"
   ]
  },
  {
   "cell_type": "code",
   "execution_count": 1,
   "id": "b7102d11",
   "metadata": {},
   "outputs": [],
   "source": [
    "import pandas as pd\n",
    "import numpy as np\n",
    "from tqdm import tqdm\n",
    "import pickle\n",
    "from sklearn.metrics import f1_score, precision_score, recall_score, accuracy_score"
   ]
  },
  {
   "cell_type": "markdown",
   "id": "d48dfef4",
   "metadata": {},
   "source": [
    "# Load Data"
   ]
  },
  {
   "cell_type": "code",
   "execution_count": 2,
   "id": "71ea3c83",
   "metadata": {},
   "outputs": [],
   "source": [
    "file = open('../../processed_data.pkl', 'rb')\n",
    "data = pickle.load(file)\n",
    "file.close()"
   ]
  },
  {
   "cell_type": "code",
   "execution_count": 3,
   "id": "46fde0fd",
   "metadata": {},
   "outputs": [],
   "source": [
    "train_x, train_y, test_x, test_y = data['train_x'], data['train_y'], data['test_x'], data['test_y']"
   ]
  },
  {
   "cell_type": "markdown",
   "id": "234f2466",
   "metadata": {},
   "source": [
    "# Radius Neighbors Classifier"
   ]
  },
  {
   "cell_type": "code",
   "execution_count": 10,
   "id": "c08e9df9",
   "metadata": {},
   "outputs": [],
   "source": [
    "from sklearn.neighbors import RadiusNeighborsClassifier\n",
    "from sklearn.model_selection import GridSearchCV"
   ]
  },
  {
   "cell_type": "code",
   "execution_count": 11,
   "id": "1205c42a",
   "metadata": {},
   "outputs": [],
   "source": [
    "radius_neighbors_classifier = RadiusNeighborsClassifier(algorithm='auto', outlier_label='most_frequent', n_jobs=-1)"
   ]
  },
  {
   "cell_type": "code",
   "execution_count": 12,
   "id": "142b3607",
   "metadata": {},
   "outputs": [],
   "source": [
    "params = {\n",
    "    'radius': [0.1, 0.2, 0.5, 1.0, 1.5, 2.0],\n",
    "    'weights': ['uniform', 'distance'],\n",
    "    'p': [1, 2]\n",
    "}"
   ]
  },
  {
   "cell_type": "code",
   "execution_count": 13,
   "id": "48a1ed97",
   "metadata": {},
   "outputs": [],
   "source": [
    "# Perform Grid Search on paramaters specified by params\n",
    "\n",
    "grid_search = GridSearchCV(estimator=radius_neighbors_classifier, param_grid=params, cv=5, n_jobs=-1, verbose=1, scoring = 'accuracy')"
   ]
  },
  {
   "cell_type": "code",
   "execution_count": 14,
   "id": "0f6d3467",
   "metadata": {},
   "outputs": [
    {
     "name": "stdout",
     "output_type": "stream",
     "text": [
      "Fitting 5 folds for each of 24 candidates, totalling 120 fits\n"
     ]
    },
    {
     "data": {
      "text/plain": [
       "GridSearchCV(cv=5,\n",
       "             estimator=RadiusNeighborsClassifier(n_jobs=-1,\n",
       "                                                 outlier_label='most_frequent'),\n",
       "             n_jobs=-1,\n",
       "             param_grid={'p': [1, 2], 'radius': [0.1, 0.2, 0.5, 1.0, 1.5, 2.0],\n",
       "                         'weights': ['uniform', 'distance']},\n",
       "             scoring='accuracy', verbose=1)"
      ]
     },
     "execution_count": 14,
     "metadata": {},
     "output_type": "execute_result"
    }
   ],
   "source": [
    "grid_search.fit(train_x, train_y)"
   ]
  },
  {
   "cell_type": "code",
   "execution_count": 15,
   "id": "9fbfbef3",
   "metadata": {},
   "outputs": [
    {
     "data": {
      "text/plain": [
       "RadiusNeighborsClassifier(n_jobs=-1, outlier_label='most_frequent', p=1,\n",
       "                          radius=2.0, weights='distance')"
      ]
     },
     "execution_count": 15,
     "metadata": {},
     "output_type": "execute_result"
    }
   ],
   "source": [
    "# Find best model\n",
    "\n",
    "grid_search.best_estimator_"
   ]
  },
  {
   "cell_type": "code",
   "execution_count": 16,
   "id": "04424d44",
   "metadata": {},
   "outputs": [],
   "source": [
    "best_radius_neighbors_classifier = RadiusNeighborsClassifier(algorithm='auto', outlier_label='most_frequent', p=1, radius=2.0, weights='distance', n_jobs=-1)"
   ]
  },
  {
   "cell_type": "code",
   "execution_count": 17,
   "id": "7c24db54",
   "metadata": {},
   "outputs": [],
   "source": [
    "best_radius_neighbors_classifier.fit(train_x, train_y)\n",
    "best_radius_neighbors_classifier_predictions = best_radius_neighbors_classifier.predict(test_x)"
   ]
  },
  {
   "cell_type": "code",
   "execution_count": 18,
   "id": "def29271",
   "metadata": {},
   "outputs": [
    {
     "name": "stdout",
     "output_type": "stream",
     "text": [
      "Train Accuracy: 99.84470844009628 %\n",
      "Test Accuracy: 96.7080745341615 %\n"
     ]
    }
   ],
   "source": [
    "print('Train Accuracy: {} %'.format(100*best_radius_neighbors_classifier.score(train_x, train_y)))\n",
    "print('Test Accuracy: {} %'.format(100*best_radius_neighbors_classifier.score(test_x, test_y)))"
   ]
  }
 ],
 "metadata": {
  "kernelspec": {
   "display_name": "Python 3 (ipykernel)",
   "language": "python",
   "name": "python3"
  },
  "language_info": {
   "codemirror_mode": {
    "name": "ipython",
    "version": 3
   },
   "file_extension": ".py",
   "mimetype": "text/x-python",
   "name": "python",
   "nbconvert_exporter": "python",
   "pygments_lexer": "ipython3",
   "version": "3.7.4"
  }
 },
 "nbformat": 4,
 "nbformat_minor": 5
}
