{
 "cells": [
  {
   "cell_type": "markdown",
   "id": "b508374c",
   "metadata": {},
   "source": [
    "# Import Statements"
   ]
  },
  {
   "cell_type": "code",
   "execution_count": 1,
   "id": "2fa11d8a",
   "metadata": {},
   "outputs": [],
   "source": [
    "import pandas as pd\n",
    "import numpy as np\n",
    "from tqdm import tqdm\n",
    "import pickle\n",
    "from sklearn.metrics import f1_score, precision_score, recall_score, accuracy_score"
   ]
  },
  {
   "cell_type": "markdown",
   "id": "d6e29bac",
   "metadata": {},
   "source": [
    "# Load Data"
   ]
  },
  {
   "cell_type": "code",
   "execution_count": 2,
   "id": "90620969",
   "metadata": {},
   "outputs": [],
   "source": [
    "file = open('../../processed_data.pkl', 'rb')\n",
    "data = pickle.load(file)\n",
    "file.close()"
   ]
  },
  {
   "cell_type": "code",
   "execution_count": 3,
   "id": "e6218dfe",
   "metadata": {},
   "outputs": [],
   "source": [
    "train_x, train_y, test_x, test_y = data['train_x'], data['train_y'], data['test_x'], data['test_y']"
   ]
  },
  {
   "cell_type": "markdown",
   "id": "3f26191e",
   "metadata": {},
   "source": [
    "# Gaussian Naive Bayes"
   ]
  },
  {
   "cell_type": "code",
   "execution_count": 4,
   "id": "74b8ce5c",
   "metadata": {},
   "outputs": [],
   "source": [
    "from sklearn.naive_bayes import GaussianNB"
   ]
  },
  {
   "cell_type": "code",
   "execution_count": 5,
   "id": "458f2388",
   "metadata": {},
   "outputs": [],
   "source": [
    "gaussian_naive_bayes_model = GaussianNB()"
   ]
  },
  {
   "cell_type": "code",
   "execution_count": 6,
   "id": "85cab383",
   "metadata": {},
   "outputs": [],
   "source": [
    "gaussian_naive_bayes_model.fit(train_x, train_y)\n",
    "gaussian_naive_bayes_model_predictions = gaussian_naive_bayes_model.predict(test_x)"
   ]
  },
  {
   "cell_type": "code",
   "execution_count": 7,
   "id": "def9f439",
   "metadata": {},
   "outputs": [
    {
     "name": "stdout",
     "output_type": "stream",
     "text": [
      "Train Accuracy: 87.22726919791909 %\n",
      "Test Accuracy: 86.30434782608695 %\n"
     ]
    }
   ],
   "source": [
    "print('Train Accuracy: {} %'.format(100*gaussian_naive_bayes_model.score(train_x, train_y)))\n",
    "print('Test Accuracy: {} %'.format(100*gaussian_naive_bayes_model.score(test_x, test_y)))"
   ]
  }
 ],
 "metadata": {
  "kernelspec": {
   "display_name": "Python 3 (ipykernel)",
   "language": "python",
   "name": "python3"
  },
  "language_info": {
   "codemirror_mode": {
    "name": "ipython",
    "version": 3
   },
   "file_extension": ".py",
   "mimetype": "text/x-python",
   "name": "python",
   "nbconvert_exporter": "python",
   "pygments_lexer": "ipython3",
   "version": "3.7.4"
  }
 },
 "nbformat": 4,
 "nbformat_minor": 5
}
